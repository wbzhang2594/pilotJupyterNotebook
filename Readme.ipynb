{
 "cells": [
  {
   "cell_type": "markdown",
   "metadata": {},
   "source": [
    "# This is deployed to learn ML\n",
    "## 1.Installed Components\n",
    " - python3\n",
    " - jupyter-lab\n",
    " - numpy\n",
    " - pytorch (CPU)\n",
    " - git\n",
    " - jupyterlab-git (https://github.com/jupyterlab/jupyterlab-git)"
   ]
  },
  {
   "cell_type": "markdown",
   "metadata": {},
   "source": [
    "# 技巧\n",
    "## 1.运行shell命令\n",
    "在`!`后直接跟命令就可以执行。 这太危险了！！！"
   ]
  },
  {
   "cell_type": "code",
   "execution_count": 5,
   "metadata": {},
   "outputs": [
    {
     "name": "stdout",
     "output_type": "stream",
     "text": [
      "dataAnalysis.ipynb\t      matplot\t\t\t\tReadme.ipynb\n",
      "environment.yml\t\t      proberbilityOfSameBirthday.ipynb\treadme.md\n",
      "GenerateIdentityMetrix.ipynb  pytorch\t\t\t\ttryPylab.ipynb\n",
      "learn_numpy\t\t      readme1.md\n"
     ]
    }
   ],
   "source": [
    "!ls"
   ]
  },
  {
   "cell_type": "markdown",
   "metadata": {},
   "source": [
    "## 2.换主题\n",
    "2.1.先安装\n",
    "```\n",
    "pip install jupyterthemes\n",
    "```\n",
    "2.2.加载可用主题列表：\n",
    "```\n",
    "jt -l \n",
    "```\n",
    "2.3.选择你想要的主题\n",
    "```\n",
    "jt -t <name of the theme>\n",
    "```"
   ]
  },
  {
   "cell_type": "code",
   "execution_count": 1,
   "metadata": {},
   "outputs": [
    {
     "name": "stdout",
     "output_type": "stream",
     "text": [
      "Available Themes: \n",
      "   chesterish\n",
      "   grade3\n",
      "   gruvboxd\n",
      "   gruvboxl\n",
      "   monokai\n",
      "   oceans16\n",
      "   onedork\n",
      "   solarizedd\n",
      "   solarizedl\n"
     ]
    }
   ],
   "source": [
    "!jt -l"
   ]
  }
 ],
 "metadata": {
  "kernelspec": {
   "display_name": "Python 3",
   "language": "python",
   "name": "python3"
  },
  "language_info": {
   "codemirror_mode": {
    "name": "ipython",
    "version": 3
   },
   "file_extension": ".py",
   "mimetype": "text/x-python",
   "name": "python",
   "nbconvert_exporter": "python",
   "pygments_lexer": "ipython3",
   "version": "3.7.0"
  }
 },
 "nbformat": 4,
 "nbformat_minor": 4
}
