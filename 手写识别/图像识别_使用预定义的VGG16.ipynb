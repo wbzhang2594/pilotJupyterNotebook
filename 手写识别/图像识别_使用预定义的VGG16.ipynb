{
 "cells": [
  {
   "cell_type": "code",
   "execution_count": 4,
   "metadata": {},
   "outputs": [],
   "source": [
    "import keras\n",
    "from keras.datasets import cifar10\n",
    "from keras.applications.vgg16 import VGG16, preprocess_input\n",
    "from keras.models import Model\n",
    "import numpy as np\n",
    "from keras.utils import np_utils"
   ]
  },
  {
   "cell_type": "code",
   "execution_count": 6,
   "metadata": {},
   "outputs": [
    {
     "name": "stdout",
     "output_type": "stream",
     "text": [
      "shape -  (50000, 32, 32, 3) (50000, 1)\n",
      "shape -  (50000, 32, 32, 3) (50000, 10)\n"
     ]
    }
   ],
   "source": [
    "(x_train, y_train), (x_test, y_test) = cifar10.load_data()\n",
    "print(\"shape - \", x_train.shape, y_train.shape) \n",
    "x_train = preprocess_input (x_train)\n",
    "x_test = preprocess_input(x_test)\n",
    "y_train=np_utils.to_categorical(y_train)\n",
    "y_test=np_utils.to_categorical(y_test)\n",
    "\n",
    "print(\"shape - \", x_train.shape, y_train.shape) \n"
   ]
  },
  {
   "cell_type": "code",
   "execution_count": 9,
   "metadata": {
    "collapsed": true,
    "jupyter": {
     "outputs_hidden": true
    },
    "tags": []
   },
   "outputs": [
    {
     "name": "stdout",
     "output_type": "stream",
     "text": [
      "Model: \"vgg16\"\n",
      "_________________________________________________________________\n",
      "Layer (type)                 Output Shape              Param #   \n",
      "=================================================================\n",
      "input_2 (InputLayer)         [(None, 32, 32, 3)]       0         \n",
      "_________________________________________________________________\n",
      "block1_conv1 (Conv2D)        (None, 32, 32, 64)        1792      \n",
      "_________________________________________________________________\n",
      "block1_conv2 (Conv2D)        (None, 32, 32, 64)        36928     \n",
      "_________________________________________________________________\n",
      "block1_pool (MaxPooling2D)   (None, 16, 16, 64)        0         \n",
      "_________________________________________________________________\n",
      "block2_conv1 (Conv2D)        (None, 16, 16, 128)       73856     \n",
      "_________________________________________________________________\n",
      "block2_conv2 (Conv2D)        (None, 16, 16, 128)       147584    \n",
      "_________________________________________________________________\n",
      "block2_pool (MaxPooling2D)   (None, 8, 8, 128)         0         \n",
      "_________________________________________________________________\n",
      "block3_conv1 (Conv2D)        (None, 8, 8, 256)         295168    \n",
      "_________________________________________________________________\n",
      "block3_conv2 (Conv2D)        (None, 8, 8, 256)         590080    \n",
      "_________________________________________________________________\n",
      "block3_conv3 (Conv2D)        (None, 8, 8, 256)         590080    \n",
      "_________________________________________________________________\n",
      "block3_pool (MaxPooling2D)   (None, 4, 4, 256)         0         \n",
      "_________________________________________________________________\n",
      "block4_conv1 (Conv2D)        (None, 4, 4, 512)         1180160   \n",
      "_________________________________________________________________\n",
      "block4_conv2 (Conv2D)        (None, 4, 4, 512)         2359808   \n",
      "_________________________________________________________________\n",
      "block4_conv3 (Conv2D)        (None, 4, 4, 512)         2359808   \n",
      "_________________________________________________________________\n",
      "block4_pool (MaxPooling2D)   (None, 2, 2, 512)         0         \n",
      "_________________________________________________________________\n",
      "block5_conv1 (Conv2D)        (None, 2, 2, 512)         2359808   \n",
      "_________________________________________________________________\n",
      "block5_conv2 (Conv2D)        (None, 2, 2, 512)         2359808   \n",
      "_________________________________________________________________\n",
      "block5_conv3 (Conv2D)        (None, 2, 2, 512)         2359808   \n",
      "_________________________________________________________________\n",
      "block5_pool (MaxPooling2D)   (None, 1, 1, 512)         0         \n",
      "_________________________________________________________________\n",
      "flatten (Flatten)            (None, 512)               0         \n",
      "_________________________________________________________________\n",
      "fc1 (Dense)                  (None, 4096)              2101248   \n",
      "_________________________________________________________________\n",
      "fc2 (Dense)                  (None, 4096)              16781312  \n",
      "_________________________________________________________________\n",
      "predictions (Dense)          (None, 10)                40970     \n",
      "=================================================================\n",
      "Total params: 33,638,218\n",
      "Trainable params: 33,638,218\n",
      "Non-trainable params: 0\n",
      "_________________________________________________________________\n"
     ]
    }
   ],
   "source": [
    "model = VGG16(weights=None, input_shape=(32,32,3), classes=10)\n",
    "model.summary()"
   ]
  },
  {
   "cell_type": "code",
   "execution_count": 10,
   "metadata": {},
   "outputs": [],
   "source": [
    "model.compile(optimizer=\"sgd\", loss=\"categorical_crossentropy\", metrics=[\"accuracy\"])"
   ]
  },
  {
   "cell_type": "code",
   "execution_count": null,
   "metadata": {},
   "outputs": [
    {
     "name": "stdout",
     "output_type": "stream",
     "text": [
      "pre fit:1634263835.8058271\n",
      "Epoch 1/50\n",
      "196/196 [==============================] - 1739s 9s/step - loss: 2.2251 - accuracy: 0.1656 - val_loss: 2.4710 - val_accuracy: 0.1149\n",
      "Epoch 2/50\n",
      "196/196 [==============================] - 2203s 11s/step - loss: 1.9938 - accuracy: 0.2739 - val_loss: 1.8617 - val_accuracy: 0.3108\n",
      "Epoch 3/50\n",
      "196/196 [==============================] - 2365s 12s/step - loss: 1.8230 - accuracy: 0.3374 - val_loss: 1.8477 - val_accuracy: 0.3416\n",
      "Epoch 4/50\n",
      "196/196 [==============================] - 1758s 9s/step - loss: 1.6951 - accuracy: 0.3870 - val_loss: 1.7408 - val_accuracy: 0.3742\n",
      "Epoch 5/50\n",
      "196/196 [==============================] - 1764s 9s/step - loss: 1.5766 - accuracy: 0.4311 - val_loss: 1.5443 - val_accuracy: 0.4370\n",
      "Epoch 6/50\n",
      "196/196 [==============================] - 1768s 9s/step - loss: 1.4880 - accuracy: 0.4686 - val_loss: 1.4622 - val_accuracy: 0.4639\n",
      "Epoch 7/50\n",
      "196/196 [==============================] - 2181s 11s/step - loss: 1.4080 - accuracy: 0.4982 - val_loss: 1.4205 - val_accuracy: 0.4853\n",
      "Epoch 8/50\n",
      "196/196 [==============================] - 2242s 11s/step - loss: 1.3247 - accuracy: 0.5297 - val_loss: 1.5328 - val_accuracy: 0.4686\n",
      "Epoch 9/50\n",
      "196/196 [==============================] - 2343s 12s/step - loss: 1.2524 - accuracy: 0.5549 - val_loss: 1.2246 - val_accuracy: 0.5627\n",
      "Epoch 10/50\n",
      "196/196 [==============================] - 2185s 11s/step - loss: 1.1817 - accuracy: 0.5857 - val_loss: 1.2673 - val_accuracy: 0.5402\n",
      "Epoch 11/50\n",
      "141/196 [====================>.........] - ETA: 10:26 - loss: 1.1215 - accuracy: 0.6085"
     ]
    }
   ],
   "source": [
    "import time\n",
    "\n",
    "start_time=time.time()\n",
    "print(\"pre fit:\" + str(start_time))\n",
    "\n",
    "model.fit(x_train, y_train, batch_size=256, epochs=50, validation_data=(x_test, y_test))\n",
    "\n",
    "end_time=time.time()\n",
    "print(\"fit done:\"+str(end_time))\n",
    "print(\"duration:\" + str(end_time-start_time))"
   ]
  }
 ],
 "metadata": {
  "kernelspec": {
   "display_name": "Python 3",
   "language": "python",
   "name": "python3"
  },
  "language_info": {
   "codemirror_mode": {
    "name": "ipython",
    "version": 3
   },
   "file_extension": ".py",
   "mimetype": "text/x-python",
   "name": "python",
   "nbconvert_exporter": "python",
   "pygments_lexer": "ipython3",
   "version": "3.8.3"
  }
 },
 "nbformat": 4,
 "nbformat_minor": 4
}
