{
 "cells": [
  {
   "cell_type": "code",
   "execution_count": 1,
   "metadata": {},
   "outputs": [],
   "source": [
    "import keras\n",
    "from keras.datasets import mnist\n",
    "from keras.models import Sequential      #线性模型框架\n",
    "from keras.layers import Dense, Dropout, Flatten   #Dense全连接层; Flatten平铺层\n",
    "from keras.layers import Conv2D, MaxPooling2D   #Conv2D 二维卷积层; MaxPooling2D: 二维池化层"
   ]
  },
  {
   "cell_type": "markdown",
   "metadata": {},
   "source": [
    "# 1. 准备数据:"
   ]
  },
  {
   "cell_type": "code",
   "execution_count": 2,
   "metadata": {},
   "outputs": [],
   "source": [
    "(x_train_0, y_train_0), (x_test_0, y_test_0) = mnist.load_data()"
   ]
  },
  {
   "cell_type": "code",
   "execution_count": 3,
   "metadata": {},
   "outputs": [],
   "source": [
    "n_train=x_train_0.shape[0]\n",
    "n_test=x_test_0.shape[0]\n",
    "width,height=x_train_0.shape[1], x_train_0.shape[2]"
   ]
  },
  {
   "cell_type": "code",
   "execution_count": 4,
   "metadata": {},
   "outputs": [
    {
     "name": "stdout",
     "output_type": "stream",
     "text": [
      "(60000, 28, 28)\n",
      "(60000, 28, 28, 1)\n"
     ]
    }
   ],
   "source": [
    "x_train=x_train_0.reshape(n_train, width, height, 1)\n",
    "x_test=x_test_0.reshape(n_test, width, height, 1)\n",
    "print(x_train_0.shape)\n",
    "print(x_train.shape)"
   ]
  },
  {
   "cell_type": "code",
   "execution_count": 5,
   "metadata": {},
   "outputs": [],
   "source": [
    "from keras.utils import np_utils\n",
    "y_train=np_utils.to_categorical(y_train_0)\n",
    "y_test=np_utils.to_categorical(y_test_0)"
   ]
  },
  {
   "cell_type": "code",
   "execution_count": 6,
   "metadata": {},
   "outputs": [
    {
     "name": "stdout",
     "output_type": "stream",
     "text": [
      "(60000, 10)\n",
      "[0. 0. 0. 0. 0. 1. 0. 0. 0. 0.]\n",
      "(60000,)\n",
      "处理前的最大值为255.000000\n"
     ]
    }
   ],
   "source": [
    "print(y_train.shape)\n",
    "print(y_train[0])\n",
    "print(y_train_0.shape)\n",
    "print(\"处理前的最大值为%f\" % x_train.max())"
   ]
  },
  {
   "cell_type": "code",
   "execution_count": 7,
   "metadata": {},
   "outputs": [
    {
     "name": "stdout",
     "output_type": "stream",
     "text": [
      "处理后的最大值为1.000000\n"
     ]
    }
   ],
   "source": [
    "x_train=x_train/255\n",
    "x_test=x_test/255\n",
    "print(\"处理后的最大值为%f\" % x_train.max())"
   ]
  },
  {
   "cell_type": "markdown",
   "metadata": {},
   "source": [
    "# 2. 构造模型:"
   ]
  },
  {
   "cell_type": "code",
   "execution_count": 8,
   "metadata": {},
   "outputs": [],
   "source": [
    "#keras中的线性模型\n",
    "model=Sequential()  \n",
    "#二维卷积层, 32个5X5的卷积核, 使用ReLU作为激活函数\n",
    "model.add(Conv2D(32,(5,5),activation=\"relu\",input_shape=(width,height,1))) \n",
    "#最大池化层: 2X2大小的池化核\n",
    "model.add(MaxPooling2D(pool_size=(2,2))) \n",
    "#二维卷积层: 32个3x3的卷积核,使用ReLU作为激活函数\n",
    "model.add(Conv2D(32, (3,3), activation=\"relu\"))  \n",
    "#最大池化层: 2X2大小的池化核\n",
    "model.add(MaxPooling2D(pool_size=(2,2)))  \n",
    "#平铺层: 将数据形状转为向量\n",
    "model.add(Flatten())\n",
    "#全连接层: 隐藏层维度为256, 使用ReLU作为激活函数\n",
    "model.add(Dense(256, activation=\"relu\"))\n",
    "#全连接层: 隐藏层维度为10, 使用Softmax作为激活函数, 输出每个分类的概率\n",
    "model.add(Dense(10,activation=\"softmax\"))\n"
   ]
  },
  {
   "cell_type": "code",
   "execution_count": 9,
   "metadata": {
    "tags": []
   },
   "outputs": [
    {
     "name": "stdout",
     "output_type": "stream",
     "text": [
      "Model: \"sequential\"\n",
      "_________________________________________________________________\n",
      "Layer (type)                 Output Shape              Param #   \n",
      "=================================================================\n",
      "conv2d (Conv2D)              (None, 24, 24, 32)        832       \n",
      "_________________________________________________________________\n",
      "max_pooling2d (MaxPooling2D) (None, 12, 12, 32)        0         \n",
      "_________________________________________________________________\n",
      "conv2d_1 (Conv2D)            (None, 10, 10, 32)        9248      \n",
      "_________________________________________________________________\n",
      "max_pooling2d_1 (MaxPooling2 (None, 5, 5, 32)          0         \n",
      "_________________________________________________________________\n",
      "flatten (Flatten)            (None, 800)               0         \n",
      "_________________________________________________________________\n",
      "dense (Dense)                (None, 256)               205056    \n",
      "_________________________________________________________________\n",
      "dense_1 (Dense)              (None, 10)                2570      \n",
      "=================================================================\n",
      "Total params: 217,706\n",
      "Trainable params: 217,706\n",
      "Non-trainable params: 0\n",
      "_________________________________________________________________\n"
     ]
    }
   ],
   "source": [
    "model.summary()"
   ]
  },
  {
   "cell_type": "code",
   "execution_count": 10,
   "metadata": {},
   "outputs": [],
   "source": [
    "#优化器\n",
    "#Adam优化器, 损失函数:分类交叉熵\n",
    "#度量指标: 准确率\n",
    "model.compile(loss=\"categorical_crossentropy\", optimizer=\"adam\", metrics=['accuracy'])"
   ]
  },
  {
   "cell_type": "markdown",
   "metadata": {},
   "source": [
    "# 3. 开始训练:"
   ]
  },
  {
   "cell_type": "code",
   "execution_count": null,
   "metadata": {
    "tags": []
   },
   "outputs": [
    {
     "name": "stdout",
     "output_type": "stream",
     "text": [
      "pre fit:1634033854.3968427\n",
      "Epoch 1/5\n",
      "2500/2500 [==============================] - 64s 25ms/step - loss: 0.1141 - accuracy: 0.9646 - val_loss: 0.0414 - val_accuracy: 0.9868\n",
      "Epoch 2/5\n",
      "2500/2500 [==============================] - 43s 17ms/step - loss: 0.0413 - accuracy: 0.9872 - val_loss: 0.0307 - val_accuracy: 0.9893\n",
      "Epoch 3/5\n",
      "2500/2500 [==============================] - 46s 18ms/step - loss: 0.0290 - accuracy: 0.9908 - val_loss: 0.0266 - val_accuracy: 0.9912\n",
      "Epoch 4/5\n",
      "2500/2500 [==============================] - 37s 15ms/step - loss: 0.0221 - accuracy: 0.9932 - val_loss: 0.0319 - val_accuracy: 0.9898\n",
      "Epoch 5/5\n",
      "1501/2500 [=================>............] - ETA: 13s - loss: 0.0166 - accuracy: 0.9948- ETA: 13s - loss: 0.0163 - accuracy:"
     ]
    }
   ],
   "source": [
    "#开始训练\n",
    "import time\n",
    "start_time=time.time()\n",
    "print(\"pre fit:\" + str(start_time))\n",
    "# time.sleep(2)\n",
    "model.fit(x_train, y_train, batch_size=24, epochs=5, validation_data=(x_test, y_test))\n",
    "end_time=time.time()\n",
    "print(\"fit done:\"+str(end_time))\n",
    "print(\"duration:\" + str(end_time-start_time))"
   ]
  },
  {
   "cell_type": "code",
   "execution_count": null,
   "metadata": {},
   "outputs": [],
   "source": [
    "score = model.evaluate(x_test, y_test)\n",
    "print(\"损失为%f\" % score[0])\n",
    "print(\"准确度为%f\" % score[1])"
   ]
  },
  {
   "cell_type": "code",
   "execution_count": null,
   "metadata": {
    "tags": []
   },
   "outputs": [],
   "source": [
    "\n",
    "\n",
    "print(x_test[0:1])\n",
    "model.predict(x_test[0:1])\n"
   ]
  },
  {
   "cell_type": "markdown",
   "metadata": {},
   "source": [
    "# 4. 预测:"
   ]
  },
  {
   "cell_type": "code",
   "execution_count": null,
   "metadata": {
    "tags": []
   },
   "outputs": [],
   "source": [
    "import matplotlib\n",
    "import matplotlib.image as img\n",
    "\n",
    "# import glob\n",
    "from PIL import Image\n",
    "import numpy as np\n",
    "\n",
    "input_path=\"test/5.jpg\"\n",
    "# input_path=\"test/3_out_sm.jpg\"\n",
    "# input_path=\"test/3_out_gray.bmp\"\n",
    "im=Image.open(input_path)\n",
    "print(im.size)\n",
    "im=im.resize((28,28))  # 转换成28X28的尺寸\n",
    "print(im.size)\n",
    "\n",
    "im_1=im.convert(\"L\")\n",
    "im_data=im_1.getdata()\n",
    "im_array = np.array(list(im_data))\n",
    "im_array= im_array.reshape(28,28)\n",
    "im_array=255-im_array\n",
    "im_array=im_array.reshape(1,28,28,1)\n",
    "\n",
    "predict_result = model.predict(im_array)\n",
    "print(\"识别结果:%d\" % np.argmax(predict_result))"
   ]
  },
  {
   "cell_type": "code",
   "execution_count": null,
   "metadata": {},
   "outputs": [],
   "source": []
  }
 ],
 "metadata": {
  "kernelspec": {
   "display_name": "Python 3",
   "language": "python",
   "name": "python3"
  },
  "language_info": {
   "codemirror_mode": {
    "name": "ipython",
    "version": 3
   },
   "file_extension": ".py",
   "mimetype": "text/x-python",
   "name": "python",
   "nbconvert_exporter": "python",
   "pygments_lexer": "ipython3",
   "version": "3.8.3"
  }
 },
 "nbformat": 4,
 "nbformat_minor": 4
}
