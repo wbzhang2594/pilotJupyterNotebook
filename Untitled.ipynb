{
 "cells": [
  {
   "cell_type": "markdown",
   "metadata": {},
   "source": [
    "# Title\n",
    "一行笔记一行代码？\n",
    "\n",
    "# table\n",
    "|1|2|\n",
    "|-|-|\n",
    "|1|2|\n",
    "\n"
   ]
  },
  {
   "cell_type": "code",
   "execution_count": 2,
   "metadata": {},
   "outputs": [
    {
     "name": "stdout",
     "output_type": "stream",
     "text": [
      "Hello World and wenbin\n",
      "b'\\x03\\x00'\n"
     ]
    }
   ],
   "source": [
    "import struct\n",
    "\n",
    "\n",
    "myname=\"wenbin\"\n",
    "\n",
    "print(\"Hello World and %s\"%(myname))\n",
    "bbb = struct.pack(\"<h\", 3)\n",
    "print(bbb)\n"
   ]
  },
  {
   "cell_type": "code",
   "execution_count": 2,
   "metadata": {},
   "outputs": [
    {
     "name": "stdout",
     "output_type": "stream",
     "text": [
      "wenbin\n"
     ]
    }
   ],
   "source": [
    "print(myname)"
   ]
  }
 ],
 "metadata": {
  "kernelspec": {
   "display_name": "Python 3",
   "language": "python",
   "name": "python3"
  },
  "language_info": {
   "codemirror_mode": {
    "name": "ipython",
    "version": 3
   },
   "file_extension": ".py",
   "mimetype": "text/x-python",
   "name": "python",
   "nbconvert_exporter": "python",
   "pygments_lexer": "ipython3",
   "version": "3.7.4"
  }
 },
 "nbformat": 4,
 "nbformat_minor": 4
}
